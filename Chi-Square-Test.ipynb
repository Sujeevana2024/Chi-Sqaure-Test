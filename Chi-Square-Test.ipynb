{
 "cells": [
  {
   "cell_type": "markdown",
   "id": "fb2ad7c0-a1b6-4fbe-996f-5ca2c4edc01c",
   "metadata": {},
   "source": [
    "# Chi-Square Test"
   ]
  },
  {
   "cell_type": "markdown",
   "id": "88c711d7-d5e7-4280-bd3b-114aef7439cf",
   "metadata": {},
   "source": [
    "## Importing"
   ]
  },
  {
   "cell_type": "code",
   "execution_count": 46,
   "id": "89d876c0-99f9-4029-b7c4-64bfe865d1a2",
   "metadata": {},
   "outputs": [],
   "source": [
    "import pandas as pd\n",
    "import numpy as np\n",
    "import matplotlib.pyplot as plt"
   ]
  },
  {
   "cell_type": "markdown",
   "id": "63d26fd1-e623-48f6-95a2-5865739df28c",
   "metadata": {},
   "source": [
    "## Reading the Dataset"
   ]
  },
  {
   "cell_type": "code",
   "execution_count": 48,
   "id": "3340c5a1-fe26-46b4-86bb-f0f46984520c",
   "metadata": {},
   "outputs": [
    {
     "data": {
      "text/html": [
       "<div>\n",
       "<style scoped>\n",
       "    .dataframe tbody tr th:only-of-type {\n",
       "        vertical-align: middle;\n",
       "    }\n",
       "\n",
       "    .dataframe tbody tr th {\n",
       "        vertical-align: top;\n",
       "    }\n",
       "\n",
       "    .dataframe thead th {\n",
       "        text-align: right;\n",
       "    }\n",
       "</style>\n",
       "<table border=\"1\" class=\"dataframe\">\n",
       "  <thead>\n",
       "    <tr style=\"text-align: right;\">\n",
       "      <th></th>\n",
       "      <th>gender</th>\n",
       "      <th>occupation</th>\n",
       "      <th>education</th>\n",
       "      <th>income</th>\n",
       "    </tr>\n",
       "  </thead>\n",
       "  <tbody>\n",
       "    <tr>\n",
       "      <th>0</th>\n",
       "      <td>Male</td>\n",
       "      <td>Blue-Collar Skilled Jobs</td>\n",
       "      <td>High School and Below</td>\n",
       "      <td>&lt;=50K</td>\n",
       "    </tr>\n",
       "    <tr>\n",
       "      <th>1</th>\n",
       "      <td>Male</td>\n",
       "      <td>Manual/Unskilled jobs</td>\n",
       "      <td>High School and Below</td>\n",
       "      <td>&lt;=50K</td>\n",
       "    </tr>\n",
       "    <tr>\n",
       "      <th>2</th>\n",
       "      <td>Male</td>\n",
       "      <td>Service Jobs</td>\n",
       "      <td>Associate's Degree</td>\n",
       "      <td>&gt;50K</td>\n",
       "    </tr>\n",
       "    <tr>\n",
       "      <th>3</th>\n",
       "      <td>Male</td>\n",
       "      <td>Blue-Collar Skilled Jobs</td>\n",
       "      <td>High School and Below</td>\n",
       "      <td>&gt;50K</td>\n",
       "    </tr>\n",
       "    <tr>\n",
       "      <th>4</th>\n",
       "      <td>Female</td>\n",
       "      <td>White-Collar Professional Jobs</td>\n",
       "      <td>High School and Below</td>\n",
       "      <td>&lt;=50K</td>\n",
       "    </tr>\n",
       "  </tbody>\n",
       "</table>\n",
       "</div>"
      ],
      "text/plain": [
       "   gender                      occupation              education income\n",
       "0    Male        Blue-Collar Skilled Jobs  High School and Below  <=50K\n",
       "1    Male           Manual/Unskilled jobs  High School and Below  <=50K\n",
       "2    Male                    Service Jobs     Associate's Degree   >50K\n",
       "3    Male        Blue-Collar Skilled Jobs  High School and Below   >50K\n",
       "4  Female  White-Collar Professional Jobs  High School and Below  <=50K"
      ]
     },
     "execution_count": 48,
     "metadata": {},
     "output_type": "execute_result"
    }
   ],
   "source": [
    "df= pd.read_excel(r'C:\Users\rajes\OneDrive\Desktop\Praxis\SDA Files\Chi-Square Project\Chi-Square Dataset (1).xlsx')\n",
    "df.head()"
   ]
  },
  {
   "cell_type": "raw",
   "id": "5b00083a-78d6-4241-abcb-6430b6437b6b",
   "metadata": {},
   "source": [
    "1. Test whether there is a significant impact on income between Male and Female.\n",
    "Gender is a nominal variable, and the Chi-Square test is suitable for analyzing it. \n",
    "This test compares observed and expected data to determine if differences are due to chance or a relationship between categorical variables."
   ]
  },
  {
   "cell_type": "code",
   "execution_count": 49,
   "id": "e3360186-b2db-409c-92f7-fb2b3e5caec0",
   "metadata": {},
   "outputs": [
    {
     "data": {
      "text/html": [
       "<div>\n",
       "<style scoped>\n",
       "    .dataframe tbody tr th:only-of-type {\n",
       "        vertical-align: middle;\n",
       "    }\n",
       "\n",
       "    .dataframe tbody tr th {\n",
       "        vertical-align: top;\n",
       "    }\n",
       "\n",
       "    .dataframe thead th {\n",
       "        text-align: right;\n",
       "    }\n",
       "</style>\n",
       "<table border=\"1\" class=\"dataframe\">\n",
       "  <thead>\n",
       "    <tr style=\"text-align: right;\">\n",
       "      <th>income</th>\n",
       "      <th>&lt;=50K</th>\n",
       "      <th>&gt;50K</th>\n",
       "    </tr>\n",
       "    <tr>\n",
       "      <th>gender</th>\n",
       "      <th></th>\n",
       "      <th></th>\n",
       "    </tr>\n",
       "  </thead>\n",
       "  <tbody>\n",
       "    <tr>\n",
       "      <th>Female</th>\n",
       "      <td>14423</td>\n",
       "      <td>1769</td>\n",
       "    </tr>\n",
       "    <tr>\n",
       "      <th>Male</th>\n",
       "      <td>22722</td>\n",
       "      <td>9913</td>\n",
       "    </tr>\n",
       "  </tbody>\n",
       "</table>\n",
       "</div>"
      ],
      "text/plain": [
       "income  <=50K  >50K\n",
       "gender             \n",
       "Female  14423  1769\n",
       "Male    22722  9913"
      ]
     },
     "execution_count": 49,
     "metadata": {},
     "output_type": "execute_result"
    }
   ],
   "source": [
    "df1=pd.crosstab(df[\"gender\"],df[\"income\"])\n",
    "df1"
   ]
  },
  {
   "cell_type": "raw",
   "id": "8617d6aa-3ba6-4ac8-89a1-5f5388383f90",
   "metadata": {},
   "source": [
    "Null Hypothesis (H₀): There is no significant association between Gender type and income level. \n",
    "In other words, the distribution of income levels (<=50K and >50K) is independent of the type of Gender.\n",
    "\n",
    "Alternative Hypothesis (H₁): There is a significant association between Gender type and income level. \n",
    "This means the distribution of income levels (<=50K and >50K) depends on the type of Gender."
   ]
  },
  {
   "cell_type": "code",
   "execution_count": 50,
   "id": "94030fdc-9ef6-4060-b899-492ff477e2ca",
   "metadata": {},
   "outputs": [
    {
     "name": "stdout",
     "output_type": "stream",
     "text": [
      " Expected values are  : \n",
      "  [[12318.01749032  3873.98250968]\n",
      " [24826.98250968  7808.01749032]]\n",
      " Chi-Sqaure Value : 2248.3767665753658\n",
      " The P_Value is 0.0\n"
     ]
    }
   ],
   "source": [
    "from scipy.stats import chi2_contingency\n",
    "chi_1, p1 , dof1 , expected1 = chi2_contingency(df1)\n",
    "print(f\" Expected values are  : \\n  {expected1 }\" ) \n",
    "print (f\" Chi-Sqaure Value : {chi_1}\")\n",
    "print(f\" The P_Value is {p1}\")  "
   ]
  },
  {
   "cell_type": "raw",
   "id": "d42e5995-e2f3-4a82-bc98-83112d19bd29",
   "metadata": {},
   "source": [
    "INFERENCE : Since the p-Value is less than 0.05, we will reject H0. \n",
    "So we can conclude that there is significant association between Gender type and income level."
   ]
  },
  {
   "cell_type": "code",
   "execution_count": 51,
   "id": "921156c8-1de4-47c3-b228-d28d371892cc",
   "metadata": {},
   "outputs": [
    {
     "data": {
      "text/html": [
       "<div>\n",
       "<style scoped>\n",
       "    .dataframe tbody tr th:only-of-type {\n",
       "        vertical-align: middle;\n",
       "    }\n",
       "\n",
       "    .dataframe tbody tr th {\n",
       "        vertical-align: top;\n",
       "    }\n",
       "\n",
       "    .dataframe thead th {\n",
       "        text-align: right;\n",
       "    }\n",
       "</style>\n",
       "<table border=\"1\" class=\"dataframe\">\n",
       "  <thead>\n",
       "    <tr style=\"text-align: right;\">\n",
       "      <th>income</th>\n",
       "      <th>&lt;=50K</th>\n",
       "      <th>&gt;50K</th>\n",
       "    </tr>\n",
       "    <tr>\n",
       "      <th>occupation</th>\n",
       "      <th></th>\n",
       "      <th></th>\n",
       "    </tr>\n",
       "  </thead>\n",
       "  <tbody>\n",
       "    <tr>\n",
       "      <th>Blue-Collar Skilled Jobs</th>\n",
       "      <td>9253</td>\n",
       "      <td>2236</td>\n",
       "    </tr>\n",
       "    <tr>\n",
       "      <th>Manual/Unskilled jobs</th>\n",
       "      <td>3251</td>\n",
       "      <td>311</td>\n",
       "    </tr>\n",
       "    <tr>\n",
       "      <th>Service Jobs</th>\n",
       "      <td>5633</td>\n",
       "      <td>515</td>\n",
       "    </tr>\n",
       "    <tr>\n",
       "      <th>White-Collar Professional Jobs</th>\n",
       "      <td>19008</td>\n",
       "      <td>8620</td>\n",
       "    </tr>\n",
       "  </tbody>\n",
       "</table>\n",
       "</div>"
      ],
      "text/plain": [
       "income                          <=50K  >50K\n",
       "occupation                                 \n",
       "Blue-Collar Skilled Jobs         9253  2236\n",
       "Manual/Unskilled jobs            3251   311\n",
       "Service Jobs                     5633   515\n",
       "White-Collar Professional Jobs  19008  8620"
      ]
     },
     "execution_count": 51,
     "metadata": {},
     "output_type": "execute_result"
    }
   ],
   "source": [
    "df2=pd.crosstab(df[\"occupation\"],df[\"income\"])\n",
    "df2"
   ]
  },
  {
   "cell_type": "raw",
   "id": "0ae8ef47-fea0-4dfc-8687-9255d4c8190a",
   "metadata": {},
   "source": [
    "Null Hypothesis (H₀): There is no significant association between occupation type and income level. \n",
    "In other words, the distribution of income levels (<=50K and >50K) is independent of the type of occupation.\n",
    "\n",
    "Alternative Hypothesis (H₁): There is a significant association between occupation type and income level. \n",
    "This means the distribution of income levels (<=50K and >50K) depends on the type of occupation."
   ]
  },
  {
   "cell_type": "code",
   "execution_count": 56,
   "id": "373905a4-809b-4169-8a97-7022035050ee",
   "metadata": {},
   "outputs": [
    {
     "name": "stdout",
     "output_type": "stream",
     "text": [
      " Expected values are  : \n",
      "  [[ 8740.22374916  2748.77625084]\n",
      " [ 2709.78126856   852.21873144]\n",
      " [ 4677.07334057  1470.92665943]\n",
      " [21017.92164171  6610.07835829]]\n",
      " Chi-Sqaure Value : 2197.5270261538244\n",
      " The P_Value is 0.0\n"
     ]
    }
   ],
   "source": [
    "chi_2,p2,dof2,expected2 = chi2_contingency(df2)\n",
    "print(f\" Expected values are  : \\n  {expected2 }\" ) \n",
    "print (f\" Chi-Sqaure Value : {chi_2}\")\n",
    "print(f\" The P_Value is {p2}\")  "
   ]
  },
  {
   "cell_type": "raw",
   "id": "26f44d3d-423f-47eb-b3ca-f74f8db13f34",
   "metadata": {},
   "source": [
    "INFERENCE : Since the p-Value is less than 0.05, we will reject H0. \n",
    "So we can conclude that there is significant association between Occupation type and income level."
   ]
  },
  {
   "cell_type": "code",
   "execution_count": 53,
   "id": "e5f9c9b4-cb2a-4004-95f4-9b529fbd9539",
   "metadata": {},
   "outputs": [
    {
     "data": {
      "text/html": [
       "<div>\n",
       "<style scoped>\n",
       "    .dataframe tbody tr th:only-of-type {\n",
       "        vertical-align: middle;\n",
       "    }\n",
       "\n",
       "    .dataframe tbody tr th {\n",
       "        vertical-align: top;\n",
       "    }\n",
       "\n",
       "    .dataframe thead th {\n",
       "        text-align: right;\n",
       "    }\n",
       "</style>\n",
       "<table border=\"1\" class=\"dataframe\">\n",
       "  <thead>\n",
       "    <tr style=\"text-align: right;\">\n",
       "      <th>income</th>\n",
       "      <th>&lt;=50K</th>\n",
       "      <th>&gt;50K</th>\n",
       "    </tr>\n",
       "    <tr>\n",
       "      <th>education</th>\n",
       "      <th></th>\n",
       "      <th></th>\n",
       "    </tr>\n",
       "  </thead>\n",
       "  <tbody>\n",
       "    <tr>\n",
       "      <th>Advanced Degrees</th>\n",
       "      <td>1578</td>\n",
       "      <td>2504</td>\n",
       "    </tr>\n",
       "    <tr>\n",
       "      <th>Associate's Degree</th>\n",
       "      <td>2727</td>\n",
       "      <td>934</td>\n",
       "    </tr>\n",
       "    <tr>\n",
       "      <th>Bachelor's Degree</th>\n",
       "      <td>4711</td>\n",
       "      <td>3313</td>\n",
       "    </tr>\n",
       "    <tr>\n",
       "      <th>High School and Below</th>\n",
       "      <td>28129</td>\n",
       "      <td>4931</td>\n",
       "    </tr>\n",
       "  </tbody>\n",
       "</table>\n",
       "</div>"
      ],
      "text/plain": [
       "income                 <=50K  >50K\n",
       "education                         \n",
       "Advanced Degrees        1578  2504\n",
       "Associate's Degree      2727   934\n",
       "Bachelor's Degree       4711  3313\n",
       "High School and Below  28129  4931"
      ]
     },
     "execution_count": 53,
     "metadata": {},
     "output_type": "execute_result"
    }
   ],
   "source": [
    "df3 = pd.crosstab(df[\"education\"],df[\"income\"])\n",
    "df3"
   ]
  },
  {
   "cell_type": "raw",
   "id": "a388f0f7-f2b6-4cf0-9abe-d8ea243df877",
   "metadata": {},
   "source": [
    "Null Hypothesis (H₀): There is no significant association between Education type and income level. \n",
    "In other words, the distribution of income levels (<=50K and >50K) is independent of the type of Education.\n",
    "\n",
    "Alternative Hypothesis (H₁): There is a significant association between Education type and income level. \n",
    "This means the distribution of income levels (<=50K and >50K) depends on the type of Education."
   ]
  },
  {
   "cell_type": "code",
   "execution_count": 58,
   "id": "7b630740-05a8-45d9-990b-04bf050c9bba",
   "metadata": {},
   "outputs": [
    {
     "name": "stdout",
     "output_type": "stream",
     "text": [
      " Expected values are  : \n",
      "  [[ 3105.36977492   976.63022508]\n",
      " [ 2785.09523419   875.90476581]\n",
      " [ 6104.23495197  1919.76504803]\n",
      " [25150.30003891  7909.69996109]]\n",
      " Chi-Sqaure Value : 5948.616834232464\n",
      " The P_Value is 0.0\n"
     ]
    }
   ],
   "source": [
    "chi_3,p3,dof3,expected3 = chi2_contingency(df3)\n",
    "print(f\" Expected values are  : \\n  {expected3 }\" ) \n",
    "print (f\" Chi-Sqaure Value : {chi_3}\")\n",
    "print(f\" The P_Value is {p3}\")  "
   ]
  },
  {
   "cell_type": "raw",
   "id": "98c849a0-b329-4d70-8802-ba8365c964b0",
   "metadata": {},
   "source": [
    "INFERENCE : Since the p-Value is less than 0.05, we will reject H0. \n",
    "So we can conclude that there is significant association between Education type and income level."
   ]
  },
  {
   "cell_type": "markdown",
   "id": "ef1eb7fb-e0cf-4889-933e-19f52a433ad0",
   "metadata": {},
   "source": [
    "## Inference"
   ]
  },
  {
   "cell_type": "raw",
   "id": "c2665d1e-0f37-409a-ab59-1df6b3a32bd2",
   "metadata": {},
   "source": [
    "The results show that for gender, education, and occupation, the p-values (p1, p2, p3) are all less than 0.05, indicating statistical significance. This provides strong evidence to support the alternative hypothesis (H1), confirming that these factors have a significant association with income. Consequently, we reject the null hypothesis, which assumed no such association."
   ]
  },
  {
   "cell_type": "raw",
   "id": "7030a47f-a02d-4f91-9891-9fba15125521",
   "metadata": {},
   "source": [
    "Recommendations to the company :\n",
    "\n",
    "For companies, this insight could help refine compensation strategies, ensuring fair and equitable pay based on these attributes.\n",
    "Additionally, businesses may want to address any disparities or biases in income structures related to gender, education,\n",
    "and occupation to promote inclusivity and retain top talent."
   ]
  },
  {
   "cell_type": "code",
   "execution_count": 1,
   "id": "98726f04-9452-4b74-8866-066b18270694",
   "metadata": {},
   "outputs": [],
   "source": [
    "import pandas as pd"
   ]
  },
  {
   "cell_type": "code",
   "execution_count": 6,
   "id": "2245f7e6-c3eb-4d57-9f43-493de6d96124",
   "metadata": {},
   "outputs": [
    {
     "data": {
      "text/html": [
       "<div>\n",
       "<style scoped>\n",
       "    .dataframe tbody tr th:only-of-type {\n",
       "        vertical-align: middle;\n",
       "    }\n",
       "\n",
       "    .dataframe tbody tr th {\n",
       "        vertical-align: top;\n",
       "    }\n",
       "\n",
       "    .dataframe thead th {\n",
       "        text-align: right;\n",
       "    }\n",
       "</style>\n",
       "<table border=\"1\" class=\"dataframe\">\n",
       "  <thead>\n",
       "    <tr style=\"text-align: right;\">\n",
       "      <th></th>\n",
       "      <th>Age Group</th>\n",
       "      <th>Chips</th>\n",
       "      <th>Cookies</th>\n",
       "      <th>Candy</th>\n",
       "      <th>Fruit</th>\n",
       "    </tr>\n",
       "  </thead>\n",
       "  <tbody>\n",
       "    <tr>\n",
       "      <th>0</th>\n",
       "      <td>18-25</td>\n",
       "      <td>15</td>\n",
       "      <td>30</td>\n",
       "      <td>25</td>\n",
       "      <td>10</td>\n",
       "    </tr>\n",
       "    <tr>\n",
       "      <th>1</th>\n",
       "      <td>26-35</td>\n",
       "      <td>20</td>\n",
       "      <td>25</td>\n",
       "      <td>30</td>\n",
       "      <td>15</td>\n",
       "    </tr>\n",
       "    <tr>\n",
       "      <th>2</th>\n",
       "      <td>36-45</td>\n",
       "      <td>10</td>\n",
       "      <td>15</td>\n",
       "      <td>20</td>\n",
       "      <td>25</td>\n",
       "    </tr>\n",
       "    <tr>\n",
       "      <th>3</th>\n",
       "      <td>46-55</td>\n",
       "      <td>5</td>\n",
       "      <td>10</td>\n",
       "      <td>15</td>\n",
       "      <td>35</td>\n",
       "    </tr>\n",
       "    <tr>\n",
       "      <th>4</th>\n",
       "      <td>56 and above</td>\n",
       "      <td>5</td>\n",
       "      <td>5</td>\n",
       "      <td>10</td>\n",
       "      <td>30</td>\n",
       "    </tr>\n",
       "  </tbody>\n",
       "</table>\n",
       "</div>"
      ],
      "text/plain": [
       "      Age Group  Chips  Cookies  Candy  Fruit\n",
       "0         18-25     15       30     25     10\n",
       "1         26-35     20       25     30     15\n",
       "2         36-45     10       15     20     25\n",
       "3         46-55      5       10     15     35\n",
       "4  56 and above      5        5     10     30"
      ]
     },
     "execution_count": 6,
     "metadata": {},
     "output_type": "execute_result"
    }
   ],
   "source": [
    "df = pd.read_excel(r'C:\\Users\\rajes\\OneDrive\\Desktop\\Praxis\\SDA Files\\Chi-Square Project\\Book.xlsx',sheet_name = 'Sheet7')\n",
    "df.head()"
   ]
  },
  {
   "cell_type": "code",
   "execution_count": 8,
   "id": "b34b11dc-3794-40fd-b013-1d01f660eed1",
   "metadata": {},
   "outputs": [],
   "source": [
    "from scipy.stats import chi2_contingency"
   ]
  },
  {
   "cell_type": "code",
   "execution_count": 26,
   "id": "970fafd1-a182-4f8c-83d7-2e7b74c1459e",
   "metadata": {},
   "outputs": [
    {
     "data": {
      "text/plain": [
       "<pandas.core.indexing._iLocIndexer at 0x2851f409b80>"
      ]
     },
     "execution_count": 26,
     "metadata": {},
     "output_type": "execute_result"
    }
   ],
   "source": [
    "df.iloc"
   ]
  },
  {
   "cell_type": "code",
   "execution_count": 28,
   "id": "0585741e-996e-4c0b-87a2-64bb693fcf2e",
   "metadata": {},
   "outputs": [
    {
     "data": {
      "text/plain": [
       "1.8400859843764825e-08"
      ]
     },
     "execution_count": 28,
     "metadata": {},
     "output_type": "execute_result"
    }
   ],
   "source": [
    "chi_1 , p1, dof,expected_values = chi2_contingency(df.iloc[:,1:])\n",
    "p1"
   ]
  },
  {
   "cell_type": "code",
   "execution_count": null,
   "id": "b02b1f94-6f5b-40f1-9f4c-1f07f64f825a",
   "metadata": {},
   "outputs": [],
   "source": []
  }
 ],
 "metadata": {
  "kernelspec": {
   "display_name": "Python 3 (ipykernel)",
   "language": "python",
   "name": "python3"
  },
  "language_info": {
   "codemirror_mode": {
    "name": "ipython",
    "version": 3
   },
   "file_extension": ".py",
   "mimetype": "text/x-python",
   "name": "python",
   "nbconvert_exporter": "python",
   "pygments_lexer": "ipython3",
   "version": "3.12.4"
  }
 },
 "nbformat": 4,
 "nbformat_minor": 5
}
